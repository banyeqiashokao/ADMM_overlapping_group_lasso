{
 "cells": [
  {
   "cell_type": "code",
   "execution_count": 1,
   "metadata": {},
   "outputs": [],
   "source": [
    "import numpy as np\n",
    "\n",
    "n = 180\n",
    "d = 220\n",
    "\n",
    "x = np.random.randn(180, 220)\n",
    "\n",
    "x_tilde = np.hstack([x, np.ones((180, 1))] )\n",
    "\n",
    "# we consider 7 groups where each group has 40 attributes\n",
    "groupSize = 7\n",
    "attrSize = 40\n",
    "g = np.zeros((groupSize,attrSize))\n",
    "for i in np.arange(7):\n",
    "    g[i] = np.arange(30*i, 30*i+attrSize)\n",
    "\n",
    "g = g.astype('int64')\n",
    "# we consider feature in group 0, 1,  2 is activated.\n",
    "arr1 = np.random.randn(100, 1)\n",
    "w = np.vstack([20*arr1, np.zeros((120, 1)), 5*np.random.rand()]) \n",
    "\n",
    "noise = 0.5\n",
    "\n",
    "y = np.dot(x_tilde, w) + noise*np.random.randn(180, 1)"
   ]
  },
  {
   "cell_type": "code",
   "execution_count": 2,
   "metadata": {},
   "outputs": [],
   "source": [
    "import cvxpy as cv\n",
    "import matplotlib.pyplot as plt\n",
    "\n",
    "def mldivide(A, b):\n",
    "    piA = np.linalg.pinv(A)\n",
    "    x = np.dot(piA, b)\n",
    "    return x\n",
    "\n",
    "def group_lasso(X, Y, lam=1.0 ):\n",
    "    west = cv.Variable((d+1,1))\n",
    "    obj_fn = \\\n",
    "        0.5/n * cv.quad_form(X @ west - Y, np.eye(X.shape[0])) + \\\n",
    "        lam * (cv.norm(west[g[0]], 2.0) + \\\n",
    "             cv.norm(west[g[1]], 2.0) + \\\n",
    "             cv.norm(west[g[2]], 2.0) + \\\n",
    "             cv.norm(west[g[3]], 2.0) + \\\n",
    "             cv.norm(west[g[4]], 2.0) + \\\n",
    "             cv.norm(west[g[5]], 2.0) + \\\n",
    "             cv.norm(west[g[6]], 2.0))\n",
    "  \n",
    "    objective = cv.Minimize(obj_fn)\n",
    "    constraints = []\n",
    "\n",
    "    prob = cv.Problem(objective, constraints)\n",
    "    result = prob.solve(solver=cv.CVXOPT)\n",
    "    \n",
    "    return west.value\n"
   ]
  },
  {
   "cell_type": "code",
   "execution_count": 3,
   "metadata": {
    "scrolled": true
   },
   "outputs": [
    {
     "name": "stdout",
     "output_type": "stream",
     "text": [
      "the iteration 0\n",
      "the iteration 1\n",
      "the iteration 2\n",
      "the iteration 3\n",
      "the iteration 4\n",
      "the iteration 5\n",
      "the iteration 6\n",
      "the iteration 7\n",
      "the iteration 8\n",
      "the iteration 9\n",
      "the iteration 10\n",
      "the iteration 11\n",
      "the iteration 12\n",
      "the iteration 13\n",
      "the iteration 14\n",
      "the iteration 15\n",
      "the iteration 16\n",
      "the iteration 17\n",
      "the iteration 18\n",
      "the iteration 19\n",
      "the iteration 20\n",
      "the iteration 21\n",
      "the iteration 22\n",
      "the iteration 23\n",
      "the iteration 24\n",
      "the iteration 25\n",
      "the iteration 26\n",
      "the iteration 27\n",
      "the iteration 28\n",
      "the iteration 29\n",
      "the iteration 30\n",
      "the iteration 31\n",
      "the iteration 32\n",
      "the iteration 33\n",
      "the iteration 34\n",
      "the iteration 35\n",
      "the iteration 36\n",
      "the iteration 37\n",
      "the iteration 38\n",
      "the iteration 39\n",
      "the iteration 40\n",
      "the iteration 41\n",
      "the iteration 42\n",
      "the iteration 43\n",
      "the iteration 44\n",
      "the iteration 45\n",
      "the iteration 46\n",
      "the iteration 47\n",
      "the iteration 48\n",
      "the iteration 49\n",
      "the iteration 50\n",
      "the iteration 51\n",
      "the iteration 52\n",
      "the iteration 53\n",
      "the iteration 54\n",
      "the iteration 55\n",
      "the iteration 56\n",
      "the iteration 57\n",
      "the iteration 58\n",
      "the iteration 59\n",
      "the iteration 60\n",
      "the iteration 61\n",
      "the iteration 62\n",
      "the iteration 63\n",
      "the iteration 64\n",
      "the iteration 65\n",
      "the iteration 66\n",
      "the iteration 67\n",
      "the iteration 68\n",
      "the iteration 69\n",
      "the iteration 70\n",
      "the iteration 71\n",
      "the iteration 72\n",
      "the iteration 73\n",
      "the iteration 74\n",
      "the iteration 75\n",
      "the iteration 76\n",
      "the iteration 77\n",
      "the iteration 78\n",
      "the iteration 79\n",
      "the iteration 80\n",
      "the iteration 81\n",
      "the iteration 82\n",
      "the iteration 83\n",
      "the iteration 84\n",
      "the iteration 85\n",
      "the iteration 86\n",
      "the iteration 87\n",
      "the iteration 88\n",
      "the iteration 89\n",
      "the iteration 90\n",
      "the iteration 91\n",
      "the iteration 92\n",
      "the iteration 93\n",
      "the iteration 94\n",
      "the iteration 95\n",
      "the iteration 96\n",
      "the iteration 97\n",
      "the iteration 98\n",
      "the iteration 99\n"
     ]
    }
   ],
   "source": [
    "k = 0\n",
    "z_k = np.random.randn(180,1)\n",
    "u_k = np.random.randn(180,1)\n",
    "\n",
    "while k < 100:\n",
    "    Rho = 1.618\n",
    "    lam = 1.0\n",
    "\n",
    "    #Optimize w_k_next with z_k and u_k\n",
    "    y_k = y + z_k - u_k\n",
    "    w_k = group_lasso(x_tilde, y_k, lam/Rho)\n",
    "\n",
    "\n",
    "    #Optimize z_k_next with w_k_next and u_k\n",
    "    temp = np.dot(x_tilde, w_k) - y + u_k\n",
    "    z_k = (Rho/(Rho+1))*temp\n",
    "\n",
    "    #Optimize u_k_next with w_k_next and z_k_next\n",
    "    u_k = u_k + Rho*(np.dot(x_tilde, w_k) - z_k - y)\n",
    "\n",
    "\n",
    "    w_k_last = w_k.copy()\n",
    "   \n",
    "    print(\"the iteration {0}\".format(k))\n",
    "    k += 1\n"
   ]
  },
  {
   "cell_type": "code",
   "execution_count": 4,
   "metadata": {
    "scrolled": false
   },
   "outputs": [
    {
     "data": {
      "text/plain": [
       "[<matplotlib.lines.Line2D at 0x21f69655e08>]"
      ]
     },
     "execution_count": 4,
     "metadata": {},
     "output_type": "execute_result"
    },
    {
     "data": {
      "image/png": "[encoded data removed]",
      "text/plain": [
       "<Figure size 432x288 with 1 Axes>"
      ]
     },
     "metadata": {
      "needs_background": "light"
     },
     "output_type": "display_data"
    }
   ],
   "source": [
    "plt.plot(w_k_last[0:d], 'r-o', markersize=1.5, linewidth=0.5)\n",
    "plt.plot(w, 'b-*', markersize=1.5, linewidth=0.5)"
   ]
  }
 ],
 "metadata": {
  "kernelspec": {
   "display_name": "Python 3",
   "language": "python",
   "name": "python3"
  },
  "language_info": {
   "codemirror_mode": {
    "name": "ipython",
    "version": 3
   },
   "file_extension": ".py",
   "mimetype": "text/x-python",
   "name": "python",
   "nbconvert_exporter": "python",
   "pygments_lexer": "ipython3",
   "version": "3.7.7"
  }
 },
 "nbformat": 4,
 "nbformat_minor": 4
}
